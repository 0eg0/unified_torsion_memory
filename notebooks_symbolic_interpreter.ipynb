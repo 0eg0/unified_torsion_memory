{
 "cells": [
  {
   "cell_type": "markdown",
   "metadata": {},
   "source": [
    "# Live Unfolding of Meta-Equations\n",
    "Symbolic interpreter for recursive torsion protocols."
   ]
  },
  {
   "cell_type": "code",
   "metadata": {},
   "source": [
    "from src.unfold_engine import unfold\n",
    "\n",
    "expr = '⟨φ:T:Γ⟩'\n",
    "result = unfold(expr)\n",
    "print(f'Unfolded: {result}')"
   ],
   "execution_count": null,
   "outputs": []
  }
 ],
 "metadata": {},
 "nbformat": 4,
 "nbformat_minor": 2
}