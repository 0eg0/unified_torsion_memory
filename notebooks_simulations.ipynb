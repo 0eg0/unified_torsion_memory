{
 "cells": [
  {
   "cell_type": "markdown",
   "metadata": {},
   "source": [
    "# Simulations of φ(x) & Torsion Dynamics\n",
    "Demonstrate fractal fields and torsion-memory cycles."
   ]
  },
  {
   "cell_type": "code",
   "metadata": {},
   "source": [
    "import numpy as np\n",
    "import matplotlib.pyplot as plt\n",
    "from src.hausdorff_field import phi\n",
    "\n",
    "x = np.linspace(0, 10, 100)\n",
    "y = phi(x)\n",
    "\n",
    "plt.plot(x, y)\n",
    "plt.title('Fractal Field φ(x)')\n",
    "plt.xlabel('x')\n",
    "plt.ylabel('φ(x)')\n",
    "plt.show()"
   ],
   "execution_count": null,
   "outputs": []
  }
 ],
 "metadata": {},
 "nbformat": 4,
 "nbformat_minor": 2
}